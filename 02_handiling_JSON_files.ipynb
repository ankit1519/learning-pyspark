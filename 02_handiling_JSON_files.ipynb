{
 "cells": [
  {
   "cell_type": "markdown",
   "metadata": {
    "application/vnd.databricks.v1+cell": {
     "cellMetadata": {},
     "inputWidgets": {},
     "nuid": "eef7ffa3-cab9-41e5-8856-ae4490dcc574",
     "showTitle": false,
     "tableResultSettingsMap": {},
     "title": ""
    }
   },
   "source": [
    "# Reading Line delimited JSON"
   ]
  },
  {
   "cell_type": "code",
   "execution_count": 0,
   "metadata": {
    "application/vnd.databricks.v1+cell": {
     "cellMetadata": {
      "byteLimit": 2048000,
      "rowLimit": 10000
     },
     "inputWidgets": {},
     "nuid": "37ef9b80-4fb1-4028-85d9-61d8fa9eab33",
     "showTitle": false,
     "tableResultSettingsMap": {},
     "title": ""
    }
   },
   "outputs": [],
   "source": [
    "line_delimited_json_df=spark.read.format(\"json\")\\\n",
    "        .option(\"inferSchema\", \"true\")\\\n",
    "        .option(\"mode\",\"permissive\")\\\n",
    "        .load(\"/Volumes/workspace/ank/json_data/line_delimited_json.json\")"
   ]
  },
  {
   "cell_type": "code",
   "execution_count": 0,
   "metadata": {
    "application/vnd.databricks.v1+cell": {
     "cellMetadata": {
      "byteLimit": 2048000,
      "rowLimit": 10000
     },
     "inputWidgets": {},
     "nuid": "b8f28a7c-c181-4088-8636-047dc69627d9",
     "showTitle": false,
     "tableResultSettingsMap": {},
     "title": ""
    }
   },
   "outputs": [],
   "source": [
    "display(line_delimited_json_df)"
   ]
  },
  {
   "cell_type": "markdown",
   "metadata": {
    "application/vnd.databricks.v1+cell": {
     "cellMetadata": {},
     "inputWidgets": {},
     "nuid": "3d1b2141-110e-4059-8ac6-8716a12034ad",
     "showTitle": false,
     "tableResultSettingsMap": {},
     "title": ""
    }
   },
   "source": [
    "%md\n",
    "## Line delimited extra field"
   ]
  },
  {
   "cell_type": "code",
   "execution_count": 0,
   "metadata": {
    "application/vnd.databricks.v1+cell": {
     "cellMetadata": {
      "byteLimit": 2048000,
      "rowLimit": 10000
     },
     "inputWidgets": {},
     "nuid": "04222392-3b42-426c-a398-b2637e65d9ea",
     "showTitle": false,
     "tableResultSettingsMap": {},
     "title": ""
    }
   },
   "outputs": [],
   "source": [
    "extra_field_json_df=spark.read.format(\"json\")\\\n",
    "        .option(\"inferSchema\", \"true\")\\\n",
    "        .option(\"mode\",\"permissive\")\\\n",
    "        .load(\"/Volumes/workspace/ank/json_data/single_file_json with extra fields.json\")\n",
    "\n",
    "display(extra_field_json_df)"
   ]
  },
  {
   "cell_type": "markdown",
   "metadata": {
    "application/vnd.databricks.v1+cell": {
     "cellMetadata": {},
     "inputWidgets": {},
     "nuid": "d2b3f839-64d6-420d-baaa-94e1524a337c",
     "showTitle": false,
     "tableResultSettingsMap": {},
     "title": ""
    }
   },
   "source": [
    "\n",
    "# Multiline JSON"
   ]
  },
  {
   "cell_type": "markdown",
   "metadata": {
    "application/vnd.databricks.v1+cell": {
     "cellMetadata": {},
     "inputWidgets": {},
     "nuid": "5189ecb6-32f1-412a-8edb-de2bd088b802",
     "showTitle": false,
     "tableResultSettingsMap": {},
     "title": ""
    }
   },
   "source": [
    "## Reading incorrect multiline json file"
   ]
  },
  {
   "cell_type": "code",
   "execution_count": 0,
   "metadata": {
    "application/vnd.databricks.v1+cell": {
     "cellMetadata": {
      "byteLimit": 2048000,
      "rowLimit": 10000
     },
     "inputWidgets": {},
     "nuid": "1c9bea26-0f60-4d07-9cdc-c2127873cbb6",
     "showTitle": false,
     "tableResultSettingsMap": {},
     "title": ""
    }
   },
   "outputs": [],
   "source": [
    "incorrect_multiline_json_df=spark.read.format(\"json\")\\\n",
    "        .option(\"inferSchema\", \"true\")\\\n",
    "        .option(\"mode\",\"permissive\")\\\n",
    "        .option(\"multiline\",\"true\")\\\n",
    "        .load(\"/Volumes/workspace/ank/json_data/multi_line_incorrect.json\")\n",
    "display(incorrect_multiline_json_df)\n"
   ]
  },
  {
   "cell_type": "markdown",
   "metadata": {
    "application/vnd.databricks.v1+cell": {
     "cellMetadata": {},
     "inputWidgets": {},
     "nuid": "ef1cb4e4-0694-4826-aadf-7a4764985f38",
     "showTitle": false,
     "tableResultSettingsMap": {},
     "title": ""
    }
   },
   "source": [
    "## Reading correct multiline json file"
   ]
  },
  {
   "cell_type": "code",
   "execution_count": 0,
   "metadata": {
    "application/vnd.databricks.v1+cell": {
     "cellMetadata": {
      "byteLimit": 2048000,
      "rowLimit": 10000
     },
     "inputWidgets": {},
     "nuid": "765fb93a-07e2-46e5-b6d5-30a06760fb37",
     "showTitle": false,
     "tableResultSettingsMap": {},
     "title": ""
    }
   },
   "outputs": [],
   "source": [
    "correct_multiline_json_df=spark.read.format(\"json\")\\\n",
    "        .option(\"inferSchema\", \"true\")\\\n",
    "        .option(\"mode\",\"permissive\")\\\n",
    "        .option(\"multiline\",\"true\")\\\n",
    "        .load(\"/Volumes/workspace/ank/json_data/multi_line_correct.json\")\n",
    "display(correct_multiline_json_df)"
   ]
  },
  {
   "cell_type": "markdown",
   "metadata": {
    "application/vnd.databricks.v1+cell": {
     "cellMetadata": {},
     "inputWidgets": {},
     "nuid": "dbe25a4e-d496-4da7-ac0a-a1571c733771",
     "showTitle": false,
     "tableResultSettingsMap": {},
     "title": ""
    }
   },
   "source": [
    "# Reading corrupted json file"
   ]
  },
  {
   "cell_type": "code",
   "execution_count": 0,
   "metadata": {
    "application/vnd.databricks.v1+cell": {
     "cellMetadata": {
      "byteLimit": 2048000,
      "rowLimit": 10000
     },
     "inputWidgets": {},
     "nuid": "f73cf6d7-ca1a-42ea-ac05-2ef57d4f048f",
     "showTitle": false,
     "tableResultSettingsMap": {},
     "title": ""
    }
   },
   "outputs": [],
   "source": [
    "corrupted_json_df=spark.read.format(\"json\")\\\n",
    "        .option(\"inferSchema\", \"true\")\\\n",
    "        .option(\"mode\",\"permissive\")\\\n",
    "        .load(\"/Volumes/workspace/ank/json_data/corrupted_json.json\")\n",
    "display(corrupted_json_df)"
   ]
  },
  {
   "cell_type": "markdown",
   "metadata": {
    "application/vnd.databricks.v1+cell": {
     "cellMetadata": {},
     "inputWidgets": {},
     "nuid": "49c7f964-a491-4a06-b824-440e05df7ed8",
     "showTitle": false,
     "tableResultSettingsMap": {},
     "title": ""
    }
   },
   "source": [
    "# NESTED JSON"
   ]
  },
  {
   "cell_type": "code",
   "execution_count": 0,
   "metadata": {
    "application/vnd.databricks.v1+cell": {
     "cellMetadata": {
      "byteLimit": 2048000,
      "rowLimit": 10000
     },
     "inputWidgets": {},
     "nuid": "afb79c63-78f6-4e09-a906-370710155d66",
     "showTitle": false,
     "tableResultSettingsMap": {},
     "title": ""
    }
   },
   "outputs": [],
   "source": [
    "nested_json_df=spark.read.format(\"json\")\\\n",
    "        .option(\"inferSchema\", \"true\")\\\n",
    "        .option(\"mode\",\"permissive\")\\\n",
    "        .load(\"/Volumes/workspace/ank/json_data/file5.json\")\n",
    "display(nested_json_df)"
   ]
  },
  {
   "cell_type": "code",
   "execution_count": 0,
   "metadata": {
    "application/vnd.databricks.v1+cell": {
     "cellMetadata": {},
     "inputWidgets": {},
     "nuid": "d684227f-ca0d-4e08-9fcf-9555f0f78fb4",
     "showTitle": false,
     "tableResultSettingsMap": {},
     "title": ""
    }
   },
   "outputs": [],
   "source": []
  }
 ],
 "metadata": {
  "application/vnd.databricks.v1+notebook": {
   "computePreferences": {
    "hardware": {
     "accelerator": null,
     "gpuPoolId": null,
     "memory": null
    }
   },
   "dashboards": [],
   "environmentMetadata": {
    "base_environment": "",
    "environment_version": "3"
   },
   "inputWidgetPreferences": null,
   "language": "python",
   "notebookMetadata": {
    "pythonIndentUnit": 4
   },
   "notebookName": "02_handiling_JSON_files",
   "widgets": {}
  },
  "language_info": {
   "name": "python"
  }
 },
 "nbformat": 4,
 "nbformat_minor": 0
}
