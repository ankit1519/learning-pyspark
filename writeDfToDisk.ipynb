{
 "cells": [
  {
   "cell_type": "code",
   "execution_count": 0,
   "metadata": {
    "application/vnd.databricks.v1+cell": {
     "cellMetadata": {
      "byteLimit": 2048000,
      "rowLimit": 10000
     },
     "inputWidgets": {},
     "nuid": "2f0e6319-750f-492d-9796-a664d3276860",
     "showTitle": false,
     "tableResultSettingsMap": {},
     "title": ""
    }
   },
   "outputs": [],
   "source": [
    "data = [\n",
    "    (1,  \"Manish\",   26,  75000,   \"INDIA\",   \"m\"),\n",
    "    (2,  \"Nikita\",   23, 100000,   \"USA\",     \"f\"),\n",
    "    (3,  \"Pritam\",   22, 150000,   \"INDIA\",   \"m\"),\n",
    "    (4,  \"Prantosh\", 17, 200000,   \"JAPAN\",   \"m\"),\n",
    "    (5,  \"Vikash\",   31, 300000,   \"USA\",     \"m\"),\n",
    "    (6,  \"Rahul\",    55, 300000,   \"INDIA\",   \"m\"),\n",
    "    (7,  \"Raju\",     67, 540000,   \"USA\",     \"m\"),\n",
    "    (8,  \"Praveen\",  28,  70000,   \"JAPAN\",   \"m\"),\n",
    "    (9,  \"Dev\",      32, 150000,   \"JAPAN\",   \"m\"),\n",
    "    (10, \"Sherin\",   16,  25000,   \"RUSSIA\",  \"f\"),\n",
    "    (11, \"Ragu\",     12,  35000,   \"INDIA\",   \"f\"),\n",
    "    (12, \"Sweta\",    43, 200000,   \"INDIA\",   \"f\"),\n",
    "    (13, \"Raushan\",  48, 650000,   \"USA\",     \"m\"),\n",
    "    (14, \"Mukesh\",   36,  95000,   \"RUSSIA\",  \"m\"),\n",
    "    (15, \"Prakash\",  52, 750000,   \"INDIA\",   \"m\")\n",
    "]\n",
    "\n",
    "# Schema (column names)\n",
    "columns = [\"id\", \"name\", \"age\", \"salary\", \"address\", \"gender\"]\n",
    "\n",
    "# Create DataFrame\n",
    "df = spark.createDataFrame(data, schema=columns)\n",
    "\n",
    "# Show DataFrame\n",
    "df.show()"
   ]
  },
  {
   "cell_type": "code",
   "execution_count": 0,
   "metadata": {
    "application/vnd.databricks.v1+cell": {
     "cellMetadata": {
      "byteLimit": 2048000,
      "rowLimit": 10000
     },
     "inputWidgets": {},
     "nuid": "4eb8dac6-4cf7-4fdc-86be-ef61e86bd439",
     "showTitle": false,
     "tableResultSettingsMap": {},
     "title": ""
    }
   },
   "outputs": [],
   "source": [
    "df.write.format(\"csv\").option(\"header\", \"true\").option(\"mode\",\"append\").option(\"path\",\"/Volumes/workspace/ank/employee/file3\").save()"
   ]
  },
  {
   "cell_type": "code",
   "execution_count": 0,
   "metadata": {
    "application/vnd.databricks.v1+cell": {
     "cellMetadata": {
      "byteLimit": 2048000,
      "rowLimit": 10000
     },
     "inputWidgets": {},
     "nuid": "e869ee98-fd1f-479f-908b-4424d46f47af",
     "showTitle": false,
     "tableResultSettingsMap": {},
     "title": ""
    }
   },
   "outputs": [],
   "source": [
    "dbutils.fs.ls(\"/Volumes/workspace/ank/employee/\")"
   ]
  },
  {
   "cell_type": "code",
   "execution_count": 0,
   "metadata": {
    "application/vnd.databricks.v1+cell": {
     "cellMetadata": {
      "byteLimit": 2048000,
      "rowLimit": 10000
     },
     "inputWidgets": {},
     "nuid": "34d85a14-4bf5-4f06-ac63-93924f898a05",
     "showTitle": false,
     "tableResultSettingsMap": {},
     "title": ""
    }
   },
   "outputs": [],
   "source": [
    "df.repartition(3).write.format(\"csv\").option(\"header\", \"true\").option(\"mode\",\"append\").option(\"path\",\"/Volumes/workspace/ank/employee/file9\").save()"
   ]
  },
  {
   "cell_type": "markdown",
   "metadata": {
    "application/vnd.databricks.v1+cell": {
     "cellMetadata": {
      "byteLimit": 2048000,
      "rowLimit": 10000
     },
     "inputWidgets": {},
     "nuid": "f0057327-7d8f-4639-a681-5af47e43e938",
     "showTitle": false,
     "tableResultSettingsMap": {},
     "title": ""
    }
   },
   "source": [
    "# Partitioning"
   ]
  },
  {
   "cell_type": "code",
   "execution_count": 0,
   "metadata": {
    "application/vnd.databricks.v1+cell": {
     "cellMetadata": {
      "byteLimit": 2048000,
      "rowLimit": 10000
     },
     "inputWidgets": {},
     "nuid": "24eafd1e-c557-4286-8c19-dd1d6d37fe22",
     "showTitle": false,
     "tableResultSettingsMap": {},
     "title": ""
    }
   },
   "outputs": [],
   "source": [
    "df.write.format(\"csv\").option(\"header\", \"true\").option(\"mode\",\"overwrite\").option(\"path\",\"/Volumes/workspace/ank/employee/partitionBy\")\\\n",
    "  .partitionBy(\"address\").save()"
   ]
  },
  {
   "cell_type": "code",
   "execution_count": 0,
   "metadata": {
    "application/vnd.databricks.v1+cell": {
     "cellMetadata": {
      "byteLimit": 2048000,
      "rowLimit": 10000
     },
     "inputWidgets": {},
     "nuid": "269226d0-278b-4b42-a325-8495afe53db7",
     "showTitle": false,
     "tableResultSettingsMap": {},
     "title": ""
    }
   },
   "outputs": [],
   "source": []
  }
 ],
 "metadata": {
  "application/vnd.databricks.v1+notebook": {
   "computePreferences": null,
   "dashboards": [],
   "environmentMetadata": {
    "base_environment": "",
    "environment_version": "3"
   },
   "inputWidgetPreferences": null,
   "language": "python",
   "notebookMetadata": {
    "pythonIndentUnit": 4
   },
   "notebookName": "writeDfToDisk",
   "widgets": {}
  },
  "language_info": {
   "name": "python"
  }
 },
 "nbformat": 4,
 "nbformat_minor": 0
}
